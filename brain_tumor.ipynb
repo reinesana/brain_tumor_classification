{
 "cells": [
  {
   "cell_type": "code",
   "execution_count": 9,
   "metadata": {},
   "outputs": [
    {
     "ename": "ImportError",
     "evalue": "dlopen(/Library/Frameworks/Python.framework/Versions/3.12/lib/python3.12/site-packages/cv2/cv2.abi3.so, 2): Symbol not found: __ZNSt3__113basic_filebufIcNS_11char_traitsIcEEE4openEPKcj\n  Referenced from: /Library/Frameworks/Python.framework/Versions/3.12/lib/python3.12/site-packages/cv2/.dylibs/libvmaf.1.dylib (which was built for Mac OS X 12.0)\n  Expected in: /usr/lib/libc++.1.dylib\n",
     "output_type": "error",
     "traceback": [
      "\u001b[0;31m---------------------------------------------------------------------------\u001b[0m",
      "\u001b[0;31mImportError\u001b[0m                               Traceback (most recent call last)",
      "Cell \u001b[0;32mIn[9], line 14\u001b[0m\n\u001b[1;32m     12\u001b[0m \u001b[38;5;28;01mfrom\u001b[39;00m \u001b[38;5;21;01msklearn\u001b[39;00m\u001b[38;5;21;01m.\u001b[39;00m\u001b[38;5;21;01mmetrics\u001b[39;00m \u001b[38;5;28;01mimport\u001b[39;00m confusion_matrix, accuracy_score\n\u001b[1;32m     13\u001b[0m \u001b[38;5;66;03m#help read in an image data\u001b[39;00m\n\u001b[0;32m---> 14\u001b[0m \u001b[38;5;28;01mimport\u001b[39;00m \u001b[38;5;21;01mcv2\u001b[39;00m\n",
      "\u001b[0;31mImportError\u001b[0m: dlopen(/Library/Frameworks/Python.framework/Versions/3.12/lib/python3.12/site-packages/cv2/cv2.abi3.so, 2): Symbol not found: __ZNSt3__113basic_filebufIcNS_11char_traitsIcEEE4openEPKcj\n  Referenced from: /Library/Frameworks/Python.framework/Versions/3.12/lib/python3.12/site-packages/cv2/.dylibs/libvmaf.1.dylib (which was built for Mac OS X 12.0)\n  Expected in: /usr/lib/libc++.1.dylib\n"
     ]
    }
   ],
   "source": [
    "#to install: in terminal, 'pip install library'\n",
    "import numpy as np\n",
    "import pandas as pd \n",
    "#used to perform CNN\n",
    "import torch \n",
    "#helps load, iterate and manipulate data\n",
    "from torch.utils.data import Dataset, DataLoader\n",
    "#help go into directory in the dataset\n",
    "import glob \n",
    "import matplotlib.pyplot as plt\n",
    "#helps model make decision (right/wrong)\n",
    "from sklearn.metrics import confusion_matrix, accuracy_score\n",
    "#help read in an image data\n",
    "import cv2"
   ]
  },
  {
   "cell_type": "code",
   "execution_count": null,
   "metadata": {},
   "outputs": [],
   "source": [
    "#organizing tumor (yes) data\n",
    "tumor = []\n",
    "#accessing the directory of images (jpg) through glob\n",
    "for i in glob.iglob('brain_tumor_dataset/yes/*.jpg'):\n",
    "    img = cv2.imread(i)\n",
    "    #rending the images to a consistent dimension\n",
    "    img = cv2.resize(img, (128, 128))\n",
    "    ##putting an order of RGB for the images (consistency)\n",
    "    b, g, r = cv2.split(img)\n",
    "    img = cv2.merge([r, g, b])\n",
    "    tumor.append(img)\n",
    "\n",
    "#organizing healthy (no) data\n",
    "healthy = []\n",
    "#accessing the directory of images (jpg) through glob\n",
    "for i in glob.iglob('brain_tumor_dataset/no/*.jpg'):\n",
    "    img = cv2.imread(i)\n",
    "    #rending the images to a consistent dimension\n",
    "    img = cv2.resize(img, (128, 128))\n",
    "    ##putting an order of RGB for the images (consistency)\n",
    "    b, g, r = cv2.split(img)\n",
    "    img = cv2.merge([r, g, b])\n",
    "    healthy.append(img)"
   ]
  },
  {
   "cell_type": "code",
   "execution_count": null,
   "metadata": {},
   "outputs": [],
   "source": [
    "for img in tumor:\n",
    "    print(img.shape)"
   ]
  },
  {
   "cell_type": "code",
   "execution_count": null,
   "metadata": {},
   "outputs": [],
   "source": [
    "#convert to array\n",
    "healthy = np.array(healthy)\n",
    "tumor = np.array(tumor)\n",
    "#concatenate puts all images together\n",
    "All = np.concatenate((healthy, tumor))"
   ]
  },
  {
   "cell_type": "code",
   "execution_count": null,
   "metadata": {},
   "outputs": [],
   "source": [
    "tumor.shape\n",
    "#(imgs, width, height, channels)\n",
    "#(154, 128, 128, 3)"
   ]
  },
  {
   "cell_type": "code",
   "execution_count": null,
   "metadata": {},
   "outputs": [],
   "source": [
    "#visualizing brain MRI images\n",
    "#look at speficic img\n",
    "plt.imshow(healthy[0])"
   ]
  },
  {
   "cell_type": "code",
   "execution_count": null,
   "metadata": {},
   "outputs": [],
   "source": [
    "#create a function that generates random brain imgs \n",
    "def plot_random(healthy, tumor, num=5):\n",
    "    #healthy.shape[0] accesses number of images in healthy\n",
    "    healthy_imgs = healthy[np.random.choice(healthy.shape([0]), num, replace=False)]\n",
    "    tumor_imgs = healthy[np.random.choice(tumor.shape([0]), num, replace=False)]\n",
    "\n",
    "    #for loop to generate 4 random healthy imgs\n",
    "    plt.figure(figsize=(16,9))\n",
    "    for i in range(num):\n",
    "        plt.subplot(1, num, i+1)\n",
    "        plt.title('healthy')\n",
    "        plt.imshow(healthy_imgs[i])\n",
    "    #for loop to generate 4 random tumor imgs\n",
    "    plt.figure(figsize=(16,9))\n",
    "    for i in range(num):\n",
    "        plt.subplot(1, num, i+1)\n",
    "        plt.title('tumor')\n",
    "        plt.imshow(tumor_imgs[i])\n",
    "\n",
    "#running random\n",
    "plot_random(healthy, tumor)"
   ]
  },
  {
   "cell_type": "code",
   "execution_count": null,
   "metadata": {},
   "outputs": [],
   "source": []
  },
  {
   "cell_type": "code",
   "execution_count": null,
   "metadata": {},
   "outputs": [],
   "source": []
  }
 ],
 "metadata": {
  "kernelspec": {
   "display_name": "Python 3",
   "language": "python",
   "name": "python3"
  },
  "language_info": {
   "codemirror_mode": {
    "name": "ipython",
    "version": 3
   },
   "file_extension": ".py",
   "mimetype": "text/x-python",
   "name": "python",
   "nbconvert_exporter": "python",
   "pygments_lexer": "ipython3",
   "version": "3.12.1"
  }
 },
 "nbformat": 4,
 "nbformat_minor": 2
}
